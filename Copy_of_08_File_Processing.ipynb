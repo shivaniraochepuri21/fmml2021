{
  "nbformat": 4,
  "nbformat_minor": 0,
  "metadata": {
    "colab": {
      "name": "Copy of 08 File Processing.ipynb",
      "provenance": [],
      "collapsed_sections": [],
      "include_colab_link": true
    },
    "kernelspec": {
      "name": "python3",
      "display_name": "Python 3"
    },
    "language_info": {
      "name": "python"
    }
  },
  "cells": [
    {
      "cell_type": "markdown",
      "metadata": {
        "id": "view-in-github",
        "colab_type": "text"
      },
      "source": [
        "<a href=\"https://colab.research.google.com/github/shivaniraochepuri21/fmml2021/blob/main/Copy_of_08_File_Processing.ipynb\" target=\"_parent\"><img src=\"https://colab.research.google.com/assets/colab-badge.svg\" alt=\"Open In Colab\"/></a>"
      ]
    },
    {
      "cell_type": "code",
      "metadata": {
        "id": "on0OBs9S-eiS",
        "colab": {
          "base_uri": "https://localhost:8080/"
        },
        "outputId": "cba4e550-8c44-4991-f2b1-f25a51857d20"
      },
      "source": [
        "!wget https://raw.githubusercontent.com/aosp-mirror/platform_external_protobuf/master/CONTRIBUTORS.txt"
      ],
      "execution_count": 7,
      "outputs": [
        {
          "output_type": "stream",
          "name": "stdout",
          "text": [
            "--2022-01-04 08:32:45--  https://raw.githubusercontent.com/aosp-mirror/platform_external_protobuf/master/CONTRIBUTORS.txt\n",
            "Resolving raw.githubusercontent.com (raw.githubusercontent.com)... 185.199.109.133, 185.199.110.133, 185.199.111.133, ...\n",
            "Connecting to raw.githubusercontent.com (raw.githubusercontent.com)|185.199.109.133|:443... connected.\n",
            "HTTP request sent, awaiting response... 200 OK\n",
            "Length: 3924 (3.8K) [text/plain]\n",
            "Saving to: ‘CONTRIBUTORS.txt’\n",
            "\n",
            "CONTRIBUTORS.txt    100%[===================>]   3.83K  --.-KB/s    in 0s      \n",
            "\n",
            "2022-01-04 08:32:45 (60.7 MB/s) - ‘CONTRIBUTORS.txt’ saved [3924/3924]\n",
            "\n"
          ]
        }
      ]
    },
    {
      "cell_type": "code",
      "metadata": {
        "id": "Rg5LcpidAP7I"
      },
      "source": [
        "infile_pointer = open(\"CONTRIBUTORS.txt\", \"r\")\n",
        "outfile_pointer = open(\"emails-id.txt\", \"w\")"
      ],
      "execution_count": null,
      "outputs": []
    },
    {
      "cell_type": "code",
      "metadata": {
        "id": "4yocH5ViAb-g"
      },
      "source": [
        "for each_line in infile_pointer:\n",
        "  if (each_line.count('@') > 0) and (each_line.count('<') > 0):\n",
        "      print (each_line)\n",
        "      outfile_pointer.write(each_line)\n",
        "infile_pointer.close()\n",
        "outfile_pointer.close()"
      ],
      "execution_count": null,
      "outputs": []
    },
    {
      "cell_type": "code",
      "metadata": {
        "id": "jcMUd4hNCQiU"
      },
      "source": [
        "# https://github.com/mysql/mysql-server/blob/8.0/Docs/sp-imp-spec.txt\n",
        "# Write a program to save all lines that start with '-' in a separate file\n",
        "# Ignore all leading blank characters.\n",
        "\n"
      ],
      "execution_count": null,
      "outputs": []
    },
    {
      "cell_type": "code",
      "source": [
        "!wget https://raw.githubusercontent.com/mysql/mysql-server/8.0/Docs/sp-imp-spec.txt"
      ],
      "metadata": {
        "colab": {
          "base_uri": "https://localhost:8080/"
        },
        "id": "4nDSal7-TvOn",
        "outputId": "485ffeb3-1c93-4d2a-e213-cff18ed4d402"
      },
      "execution_count": 15,
      "outputs": [
        {
          "output_type": "stream",
          "name": "stdout",
          "text": [
            "--2022-01-04 08:57:48--  https://raw.githubusercontent.com/mysql/mysql-server/8.0/Docs/sp-imp-spec.txt\n",
            "Resolving raw.githubusercontent.com (raw.githubusercontent.com)... 185.199.108.133, 185.199.109.133, 185.199.110.133, ...\n",
            "Connecting to raw.githubusercontent.com (raw.githubusercontent.com)|185.199.108.133|:443... connected.\n",
            "HTTP request sent, awaiting response... 200 OK\n",
            "Length: 43014 (42K) [text/plain]\n",
            "Saving to: ‘sp-imp-spec.txt’\n",
            "\n",
            "sp-imp-spec.txt     100%[===================>]  42.01K  --.-KB/s    in 0.003s  \n",
            "\n",
            "2022-01-04 08:57:48 (13.0 MB/s) - ‘sp-imp-spec.txt’ saved [43014/43014]\n",
            "\n"
          ]
        }
      ]
    },
    {
      "cell_type": "code",
      "source": [
        "infile_pointer = open(\"sp-imp-spec.txt\", \"r\")\n",
        "outfile_pointer = open(\"out-spec.txt\", \"w\")\n",
        "\n",
        "for each_line in infile_pointer:\n",
        "  # if each_line.find('-') == 0 or each_line.find('-') == 1:\n",
        "  try:\n",
        "    r = each_line.index(\"-\")\n",
        "  except:\n",
        "    r = -1\n",
        "  \n",
        "  # print('r',r,'\\n')\n",
        "  if r != -1:\n",
        "    if each_line.startswith(\"-\",r) and each_line[r+1] == \" \":  \n",
        "      print(each_line)\n",
        "      outfile_pointer.write(each_line)\n",
        "infile_pointer.close()\n",
        "outfile_pointer.close()"
      ],
      "metadata": {
        "colab": {
          "base_uri": "https://localhost:8080/"
        },
        "id": "-BEZEZi_MNd1",
        "outputId": "c253e3c2-fcef-4e8c-a55f-dcbe6a1240bc"
      },
      "execution_count": 30,
      "outputs": [
        {
          "output_type": "stream",
          "name": "stdout",
          "text": [
            "- How parsing and execution of queries work\n",
            "\n",
            "  - Lex (mentioned above) is the \"compiled\" query, that is the output from\n",
            "\n",
            "  - THD is the \"run-time\" state of a connection, containing all that is\n",
            "\n",
            "  - Item_*:  During parsing, all data is translated into \"items\", objects of\n",
            "\n",
            "- How to fit Stored Procedure into this scheme\n",
            "\n",
            "  - An overview of the classes and files for stored procedures\n",
            "\n",
            "    - class sp_head (sp_head.{cc,h})\n",
            "\n",
            "    - class sp_pcontext (sp_pcontext.{cc,h}\n",
            "\n",
            "    - class sp_instr (sp_head.{cc,h})\n",
            "\n",
            "      - sp_instr_stmt\n",
            "\n",
            "      - sp_instr_set\n",
            "\n",
            "      - sp_instr_jump\n",
            "\n",
            "      - sp_instr_jump_if_not\n",
            "\n",
            "      - sp_instr_freturn\n",
            "\n",
            "    - class sp_rcontext (sp_rcontext.h)\n",
            "\n",
            "    - class Item_splocal (Item.{cc,h})\n",
            "\n",
            "    - Utility functions (sp.{cc,h})\n",
            "\n",
            "  - Parsing CREATE PROCEDURE ...\n",
            "\n",
            "    - Parameters:\n",
            "\n",
            "    - Declared local variables:\n",
            "\n",
            "    - Local Variable references:\n",
            "\n",
            "    - Statements:\n",
            "\n",
            "    - SET var:\n",
            "\n",
            "    - Flow control:\n",
            "\n",
            "        - Forward jumps: When jumping forward, the exact destination is not\n",
            "\n",
            "        - Loop constructs have optional labels. If a loop doesn't have a\n",
            "\n",
            "        - There are two types of CASE. The \"simple\" case is implemented\n",
            "\n",
            "    - A simple example\n",
            "\n",
            "  - Parsing CREATE FUNCTION ...\n",
            "\n",
            "  - Storing, caching, dropping...\n",
            "\n",
            "  - CALLing a procedure\n",
            "\n",
            "    - USE database\n",
            "\n",
            "      - It's possible to write \"general\" procedures that are independent of\n",
            "\n",
            "      - It's possible to write procedures that work on a particular database\n",
            "\n",
            "    - Evaluating Items\n",
            "\n",
            "      - When SETing a variable\n",
            "\n",
            "      - When CALLing a procedure\n",
            "\n",
            "      - When testing an expression for a branch (in IF, WHILE, etc)\n",
            "\n",
            "  - Calling a FUNCTION\n",
            "\n",
            "    - Detecting and parsing a FUNCTION invocation\n",
            "\n",
            "    - Collecting FUNCTIONs to invoke\n",
            "\n",
            "      - We can't read and parse the FUNCTION from the mysql.proc table at the\n",
            "\n",
            "  - Parsing DROP PROCEDURE/FUNCTION\n",
            "\n",
            "  - Condition and Handlers\n",
            "\n",
            "    - sp_instr_hpush_jump\n",
            "\n",
            "    - sp_instr_hpop\n",
            "\n",
            "    - Examples:\n",
            "\n",
            "      - EXIT handler\n",
            "\n",
            "      - CONTINUE handler\n",
            "\n",
            "  - Cursors\n",
            "\n",
            "    - sp_instr_cpush\n",
            "\n",
            "    - sp_instr_cpop\n",
            "\n",
            "    - sp_instr_copen\n",
            "\n",
            "    - sp_instr_cfetch\n",
            "\n",
            "    - sp_instr_cclose\n",
            "\n",
            "    - Example:\n",
            "\n",
            "  - The SP cache\n",
            "\n",
            "  - Class and function APIs\n",
            "\n",
            "    - The parser context: sp_pcontext.h\n",
            "\n",
            "    - The run-time context (call frame): sp_rcontext.h\n",
            "\n",
            "    - The procedure: sp_head.h\n",
            "\n",
            "    - Instructions\n",
            "\n",
            "      - The base class:\n",
            "\n",
            "      - Statement instruction:\n",
            "\n",
            "     -  SET instruction:\n",
            "\n",
            "      - Unconditional jump\n",
            "\n",
            "      - Conditional jump\n",
            "\n",
            "      - Return a function value\n",
            "\n",
            "      - Push a handler and jump\n",
            "\n",
            "      - Pops handlers\n",
            "\n",
            "      - Return from a CONTINUE handler\n",
            "\n",
            "      - Push a CURSOR\n",
            "\n",
            "      - Pop CURSORs\n",
            "\n",
            "      - Open a CURSOR\n",
            "\n",
            "      - Close a CURSOR\n",
            "\n",
            "      - Fetch a row with CURSOR\n",
            "\n",
            "    - Utility functions: sp.h\n",
            "\n",
            "    - The cache: sp_cache.h\n",
            "\n",
            "  - The mysql.proc schema:\n",
            "\n"
          ]
        }
      ]
    },
    {
      "cell_type": "markdown",
      "metadata": {
        "id": "CzILoddNaWPQ"
      },
      "source": [
        "Reference: [Official Python Documentation](https://docs.python.org/3/tutorial/inputoutput.html)\n",
        "\n",
        "String methods: [Link](https://www.w3schools.com/python/python_ref_string.asp)"
      ]
    }
  ]
}